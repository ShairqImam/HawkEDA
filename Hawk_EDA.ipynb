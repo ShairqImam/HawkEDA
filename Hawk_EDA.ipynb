{
 "cells": [
  {
   "cell_type": "code",
   "execution_count": 2,
   "metadata": {},
   "outputs": [],
   "source": [
    "import pandas as pd\n",
    "import numpy as np\n",
    "import missingno as msno\n",
    "import matplotlib.pyplot as plt"
   ]
  },
  {
   "cell_type": "code",
   "execution_count": 24,
   "metadata": {},
   "outputs": [
    {
     "data": {
      "text/html": [
       "<div>\n",
       "<style scoped>\n",
       "    .dataframe tbody tr th:only-of-type {\n",
       "        vertical-align: middle;\n",
       "    }\n",
       "\n",
       "    .dataframe tbody tr th {\n",
       "        vertical-align: top;\n",
       "    }\n",
       "\n",
       "    .dataframe thead th {\n",
       "        text-align: right;\n",
       "    }\n",
       "</style>\n",
       "<table border=\"1\" class=\"dataframe\">\n",
       "  <thead>\n",
       "    <tr style=\"text-align: right;\">\n",
       "      <th></th>\n",
       "      <th>Unnamed: 0</th>\n",
       "      <th>Month</th>\n",
       "      <th>Day</th>\n",
       "      <th>Year</th>\n",
       "      <th>CaptureTime</th>\n",
       "      <th>ReleaseTime</th>\n",
       "      <th>BandNumber</th>\n",
       "      <th>Species</th>\n",
       "      <th>Age</th>\n",
       "      <th>Sex</th>\n",
       "      <th>Wing</th>\n",
       "      <th>Weight</th>\n",
       "      <th>Culmen</th>\n",
       "      <th>Hallux</th>\n",
       "      <th>Tail</th>\n",
       "      <th>StandardTail</th>\n",
       "      <th>Tarsus</th>\n",
       "      <th>WingPitFat</th>\n",
       "      <th>KeelFat</th>\n",
       "      <th>Crop</th>\n",
       "    </tr>\n",
       "  </thead>\n",
       "  <tbody>\n",
       "    <tr>\n",
       "      <th>0</th>\n",
       "      <td>1</td>\n",
       "      <td>9</td>\n",
       "      <td>19</td>\n",
       "      <td>1992</td>\n",
       "      <td>13:30</td>\n",
       "      <td>NaN</td>\n",
       "      <td>877-76317</td>\n",
       "      <td>RT</td>\n",
       "      <td>I</td>\n",
       "      <td>NaN</td>\n",
       "      <td>385.0</td>\n",
       "      <td>920.0</td>\n",
       "      <td>25.7</td>\n",
       "      <td>30.1</td>\n",
       "      <td>219</td>\n",
       "      <td>NaN</td>\n",
       "      <td>NaN</td>\n",
       "      <td>NaN</td>\n",
       "      <td>NaN</td>\n",
       "      <td>NaN</td>\n",
       "    </tr>\n",
       "    <tr>\n",
       "      <th>1</th>\n",
       "      <td>2</td>\n",
       "      <td>9</td>\n",
       "      <td>22</td>\n",
       "      <td>1992</td>\n",
       "      <td>10:30</td>\n",
       "      <td></td>\n",
       "      <td>877-76318</td>\n",
       "      <td>RT</td>\n",
       "      <td>I</td>\n",
       "      <td>NaN</td>\n",
       "      <td>376.0</td>\n",
       "      <td>930.0</td>\n",
       "      <td>NaN</td>\n",
       "      <td>NaN</td>\n",
       "      <td>221</td>\n",
       "      <td>NaN</td>\n",
       "      <td>NaN</td>\n",
       "      <td>NaN</td>\n",
       "      <td>NaN</td>\n",
       "      <td>NaN</td>\n",
       "    </tr>\n",
       "    <tr>\n",
       "      <th>2</th>\n",
       "      <td>3</td>\n",
       "      <td>9</td>\n",
       "      <td>23</td>\n",
       "      <td>1992</td>\n",
       "      <td>12:45</td>\n",
       "      <td></td>\n",
       "      <td>877-76319</td>\n",
       "      <td>RT</td>\n",
       "      <td>I</td>\n",
       "      <td>NaN</td>\n",
       "      <td>381.0</td>\n",
       "      <td>990.0</td>\n",
       "      <td>26.7</td>\n",
       "      <td>31.3</td>\n",
       "      <td>235</td>\n",
       "      <td>NaN</td>\n",
       "      <td>NaN</td>\n",
       "      <td>NaN</td>\n",
       "      <td>NaN</td>\n",
       "      <td>NaN</td>\n",
       "    </tr>\n",
       "    <tr>\n",
       "      <th>3</th>\n",
       "      <td>4</td>\n",
       "      <td>9</td>\n",
       "      <td>23</td>\n",
       "      <td>1992</td>\n",
       "      <td>10:50</td>\n",
       "      <td></td>\n",
       "      <td>745-49508</td>\n",
       "      <td>CH</td>\n",
       "      <td>I</td>\n",
       "      <td>F</td>\n",
       "      <td>265.0</td>\n",
       "      <td>470.0</td>\n",
       "      <td>18.7</td>\n",
       "      <td>23.5</td>\n",
       "      <td>220</td>\n",
       "      <td>NaN</td>\n",
       "      <td>NaN</td>\n",
       "      <td>NaN</td>\n",
       "      <td>NaN</td>\n",
       "      <td>NaN</td>\n",
       "    </tr>\n",
       "    <tr>\n",
       "      <th>4</th>\n",
       "      <td>5</td>\n",
       "      <td>9</td>\n",
       "      <td>27</td>\n",
       "      <td>1992</td>\n",
       "      <td>11:15</td>\n",
       "      <td></td>\n",
       "      <td>1253-98801</td>\n",
       "      <td>SS</td>\n",
       "      <td>I</td>\n",
       "      <td>F</td>\n",
       "      <td>205.0</td>\n",
       "      <td>170.0</td>\n",
       "      <td>12.5</td>\n",
       "      <td>14.3</td>\n",
       "      <td>157</td>\n",
       "      <td>NaN</td>\n",
       "      <td>NaN</td>\n",
       "      <td>NaN</td>\n",
       "      <td>NaN</td>\n",
       "      <td>NaN</td>\n",
       "    </tr>\n",
       "  </tbody>\n",
       "</table>\n",
       "</div>"
      ],
      "text/plain": [
       "   Unnamed: 0  Month  Day  Year CaptureTime ReleaseTime  BandNumber Species  \\\n",
       "0           1      9   19  1992       13:30         NaN   877-76317      RT   \n",
       "1           2      9   22  1992       10:30               877-76318      RT   \n",
       "2           3      9   23  1992       12:45               877-76319      RT   \n",
       "3           4      9   23  1992       10:50               745-49508      CH   \n",
       "4           5      9   27  1992       11:15              1253-98801      SS   \n",
       "\n",
       "  Age  Sex   Wing  Weight  Culmen  Hallux  Tail  StandardTail  Tarsus  \\\n",
       "0   I  NaN  385.0   920.0    25.7    30.1   219           NaN     NaN   \n",
       "1   I  NaN  376.0   930.0     NaN     NaN   221           NaN     NaN   \n",
       "2   I  NaN  381.0   990.0    26.7    31.3   235           NaN     NaN   \n",
       "3   I    F  265.0   470.0    18.7    23.5   220           NaN     NaN   \n",
       "4   I    F  205.0   170.0    12.5    14.3   157           NaN     NaN   \n",
       "\n",
       "   WingPitFat  KeelFat  Crop  \n",
       "0         NaN      NaN   NaN  \n",
       "1         NaN      NaN   NaN  \n",
       "2         NaN      NaN   NaN  \n",
       "3         NaN      NaN   NaN  \n",
       "4         NaN      NaN   NaN  "
      ]
     },
     "execution_count": 24,
     "metadata": {},
     "output_type": "execute_result"
    }
   ],
   "source": [
    "hawk = pd.read_csv(\"C:/Users/welcome/Documents/Vishal/Hawks.csv\")\n",
    "hawk.head()"
   ]
  },
  {
   "cell_type": "code",
   "execution_count": 4,
   "metadata": {},
   "outputs": [
    {
     "data": {
      "text/plain": [
       "Text(0, 0.5, 'Count')"
      ]
     },
     "execution_count": 4,
     "metadata": {},
     "output_type": "execute_result"
    },
    {
     "data": {
      "image/png": "[encoded data removed]",
      "text/plain": [
       "<Figure size 432x288 with 1 Axes>"
      ]
     },
     "metadata": {
      "needs_background": "light"
     },
     "output_type": "display_data"
    }
   ],
   "source": [
    "hawk.groupby('Species').size().plot(kind='bar')\n",
    "plt.ylabel('Count')"
   ]
  },
  {
   "cell_type": "code",
   "execution_count": 5,
   "metadata": {},
   "outputs": [
    {
     "data": {
      "text/plain": [
       "RT    577\n",
       "SS    261\n",
       "CH     70\n",
       "Name: Species, dtype: int64"
      ]
     },
     "execution_count": 5,
     "metadata": {},
     "output_type": "execute_result"
    }
   ],
   "source": [
    "hawk['Species'].value_counts()"
   ]
  },
  {
   "cell_type": "code",
   "execution_count": 6,
   "metadata": {},
   "outputs": [],
   "source": [
    "hawk= hawk.replace(' ', np.NaN)"
   ]
  },
  {
   "cell_type": "code",
   "execution_count": 7,
   "metadata": {},
   "outputs": [
    {
     "data": {
      "text/plain": [
       "<matplotlib.axes._subplots.AxesSubplot at 0x1eddf5507b8>"
      ]
     },
     "execution_count": 7,
     "metadata": {},
     "output_type": "execute_result"
    },
    {
     "data": {
      "image/png": "[encoded data removed]",
      "text/plain": [
       "<Figure size 1728x720 with 3 Axes>"
      ]
     },
     "metadata": {
      "needs_background": "light"
     },
     "output_type": "display_data"
    }
   ],
   "source": [
    "msno.bar(hawk)"
   ]
  },
  {
   "cell_type": "code",
   "execution_count": 8,
   "metadata": {},
   "outputs": [
    {
     "name": "stdout",
     "output_type": "stream",
     "text": [
      "       Unnamed: 0       Month         Day         Year        Wing  \\\n",
      "count   908.00000  908.000000  908.000000   908.000000  907.000000   \n",
      "mean    454.50000    9.842511   15.740088  1998.253304  315.637486   \n",
      "std     262.26132    0.685717    8.413164     3.454180   95.277591   \n",
      "min       1.00000    8.000000    1.000000  1992.000000   37.200000   \n",
      "25%     227.75000    9.000000    9.000000  1995.000000  202.000000   \n",
      "50%     454.50000   10.000000   16.000000  1999.000000  370.000000   \n",
      "75%     681.25000   10.000000   23.000000  2001.000000  390.000000   \n",
      "max     908.00000   11.000000   31.000000  2003.000000  480.000000   \n",
      "\n",
      "            Weight      Culmen      Hallux        Tail  StandardTail  \\\n",
      "count   898.000000  901.000000  902.000000  908.000000    571.000000   \n",
      "mean    772.080178   21.801498   26.410865  198.831498    199.182137   \n",
      "std     462.311760    7.284175   17.734704   36.824403     38.197755   \n",
      "min      56.000000    8.600000    9.500000  119.000000    115.000000   \n",
      "25%     185.000000   12.800000   15.100000  160.000000    162.000000   \n",
      "50%     970.000000   25.500000   29.400000  214.000000    215.000000   \n",
      "75%    1120.000000   27.300000   31.400000  225.000000    226.000000   \n",
      "max    2030.000000   39.200000  341.400000  288.000000    335.000000   \n",
      "\n",
      "          Tarsus  WingPitFat     KeelFat        Crop  \n",
      "count  75.000000   77.000000  567.000000  565.000000  \n",
      "mean   71.950667    0.792208    2.184303    0.234540  \n",
      "std    17.263204    0.878660    1.044073    0.461597  \n",
      "min    24.700000    0.000000    0.000000    0.000000  \n",
      "25%    55.600000    0.000000    2.000000    0.000000  \n",
      "50%    79.300000    1.000000    2.000000    0.000000  \n",
      "75%    87.000000    1.000000    3.000000    0.250000  \n",
      "max    94.000000    3.000000    4.000000    5.000000  \n"
     ]
    }
   ],
   "source": [
    "print(hawk.describe())"
   ]
  },
  {
   "cell_type": "code",
   "execution_count": 9,
   "metadata": {},
   "outputs": [],
   "source": [
    "hawk = hawk.drop('Tarsus', axis=1)\n",
    "hawk = hawk.drop('WingPitFat', axis=1)\n",
    "hawk = hawk.drop('ReleaseTime', axis=1)"
   ]
  },
  {
   "cell_type": "code",
   "execution_count": 10,
   "metadata": {},
   "outputs": [
    {
     "data": {
      "text/plain": [
       "0.0"
      ]
     },
     "execution_count": 10,
     "metadata": {},
     "output_type": "execute_result"
    }
   ],
   "source": [
    "missing_values_CH = hawk['Weight'][hawk['Species'] == 'CH'].isnull().sum()/len(hawk)*100\n",
    "missing_values_CH"
   ]
  },
  {
   "cell_type": "code",
   "execution_count": 11,
   "metadata": {},
   "outputs": [
    {
     "data": {
      "text/plain": [
       "0.5506607929515419"
      ]
     },
     "execution_count": 11,
     "metadata": {},
     "output_type": "execute_result"
    }
   ],
   "source": [
    "missing_values_RT = hawk['Weight'][hawk['Species'] == 'RT'].isnull().sum()/len(hawk)*100\n",
    "missing_values_RT"
   ]
  },
  {
   "cell_type": "code",
   "execution_count": 12,
   "metadata": {},
   "outputs": [
    {
     "data": {
      "text/plain": [
       "0.5506607929515419"
      ]
     },
     "execution_count": 12,
     "metadata": {},
     "output_type": "execute_result"
    }
   ],
   "source": [
    "missing_values_SS = hawk['Weight'][hawk['Species'] == 'SS'].isnull().sum()/len(hawk)*100\n",
    "missing_values_SS"
   ]
  },
  {
   "cell_type": "code",
   "execution_count": 22,
   "metadata": {},
   "outputs": [
    {
     "data": {
      "text/plain": [
       "count     577.000000\n",
       "mean     1094.430070\n",
       "std       188.387235\n",
       "min       101.000000\n",
       "25%       980.000000\n",
       "50%      1075.000000\n",
       "75%      1210.000000\n",
       "max      2030.000000\n",
       "Name: Weight, dtype: float64"
      ]
     },
     "execution_count": 22,
     "metadata": {},
     "output_type": "execute_result"
    }
   ],
   "source": [
    "hawk['Weight'][hawk['Species'] == 'RT'].describe()"
   ]
  },
  {
   "cell_type": "code",
   "execution_count": 54,
   "metadata": {},
   "outputs": [
    {
     "data": {
      "text/plain": [
       "count     256.000000\n",
       "mean      147.968750\n",
       "std        80.652675\n",
       "min        85.000000\n",
       "25%       100.000000\n",
       "50%       155.000000\n",
       "75%       177.750000\n",
       "max      1094.000000\n",
       "Name: Weight, dtype: float64"
      ]
     },
     "execution_count": 54,
     "metadata": {},
     "output_type": "execute_result"
    }
   ],
   "source": [
    "hawk['Weight'][hawk['Species'] == 'SS'].describe()"
   ]
  },
  {
   "cell_type": "code",
   "execution_count": 25,
   "metadata": {},
   "outputs": [],
   "source": [
    "test = hawk"
   ]
  },
  {
   "cell_type": "code",
   "execution_count": 28,
   "metadata": {},
   "outputs": [
    {
     "data": {
      "text/plain": [
       "4      170.0\n",
       "25     100.0\n",
       "28     180.0\n",
       "39     100.0\n",
       "40      88.0\n",
       "52     134.0\n",
       "64     100.0\n",
       "67     100.0\n",
       "68       NaN\n",
       "82     194.0\n",
       "83     159.0\n",
       "84      90.0\n",
       "97     168.0\n",
       "98     146.0\n",
       "99     108.0\n",
       "100     94.0\n",
       "102    188.0\n",
       "103    154.0\n",
       "106     94.0\n",
       "111     91.0\n",
       "120     89.0\n",
       "121     97.0\n",
       "124     93.0\n",
       "127    103.0\n",
       "128    151.0\n",
       "129    101.0\n",
       "140     95.0\n",
       "141     89.0\n",
       "142    195.0\n",
       "143     93.0\n",
       "       ...  \n",
       "817     95.0\n",
       "819    175.0\n",
       "821    160.0\n",
       "824    150.0\n",
       "827    188.0\n",
       "828     95.0\n",
       "830     95.0\n",
       "833    105.0\n",
       "834    165.0\n",
       "835    170.0\n",
       "836    100.0\n",
       "839    175.0\n",
       "840    195.0\n",
       "848    100.0\n",
       "851    105.0\n",
       "856    210.0\n",
       "858     95.0\n",
       "863    170.0\n",
       "864    100.0\n",
       "869     95.0\n",
       "872     95.0\n",
       "873    100.0\n",
       "883    185.0\n",
       "886    165.0\n",
       "889    105.0\n",
       "894    190.0\n",
       "895    200.0\n",
       "896    185.0\n",
       "898    185.0\n",
       "904    175.0\n",
       "Name: Weight, Length: 261, dtype: float64"
      ]
     },
     "execution_count": 28,
     "metadata": {},
     "output_type": "execute_result"
    }
   ],
   "source": [
    "(test['Weight'][test['Species']=='SS'])"
   ]
  },
  {
   "cell_type": "code",
   "execution_count": 29,
   "metadata": {},
   "outputs": [],
   "source": [
    "hawk.fillna((test['Weight'][test['Species']=='SS']).mean(), inplace = True)\n",
    "hawk.fillna((test['Weight'][test['Species']=='RT']).mean(), inplace = True)\n",
    "hawk.fillna((test['Weight'][test['Species']=='CH']).mean(), inplace = True)\n",
    "# Notice 68 row in SS category in above and below cell"
   ]
  },
  {
   "cell_type": "code",
   "execution_count": 34,
   "metadata": {},
   "outputs": [
    {
     "data": {
      "text/plain": [
       "4      170.00000\n",
       "25     100.00000\n",
       "28     180.00000\n",
       "39     100.00000\n",
       "40      88.00000\n",
       "52     134.00000\n",
       "64     100.00000\n",
       "67     100.00000\n",
       "68     147.96875\n",
       "82     194.00000\n",
       "83     159.00000\n",
       "84      90.00000\n",
       "97     168.00000\n",
       "98     146.00000\n",
       "99     108.00000\n",
       "100     94.00000\n",
       "102    188.00000\n",
       "103    154.00000\n",
       "106     94.00000\n",
       "111     91.00000\n",
       "120     89.00000\n",
       "121     97.00000\n",
       "124     93.00000\n",
       "127    103.00000\n",
       "128    151.00000\n",
       "129    101.00000\n",
       "140     95.00000\n",
       "141     89.00000\n",
       "142    195.00000\n",
       "143     93.00000\n",
       "         ...    \n",
       "817     95.00000\n",
       "819    175.00000\n",
       "821    160.00000\n",
       "824    150.00000\n",
       "827    188.00000\n",
       "828     95.00000\n",
       "830     95.00000\n",
       "833    105.00000\n",
       "834    165.00000\n",
       "835    170.00000\n",
       "836    100.00000\n",
       "839    175.00000\n",
       "840    195.00000\n",
       "848    100.00000\n",
       "851    105.00000\n",
       "856    210.00000\n",
       "858     95.00000\n",
       "863    170.00000\n",
       "864    100.00000\n",
       "869     95.00000\n",
       "872     95.00000\n",
       "873    100.00000\n",
       "883    185.00000\n",
       "886    165.00000\n",
       "889    105.00000\n",
       "894    190.00000\n",
       "895    200.00000\n",
       "896    185.00000\n",
       "898    185.00000\n",
       "904    175.00000\n",
       "Name: Weight, Length: 261, dtype: float64"
      ]
     },
     "execution_count": 34,
     "metadata": {},
     "output_type": "execute_result"
    }
   ],
   "source": [
    "hawk['Weight'][hawk['Species'] == 'SS']"
   ]
  },
  {
   "cell_type": "code",
   "execution_count": 35,
   "metadata": {},
   "outputs": [
    {
     "data": {
      "text/plain": [
       "Unnamed: 0      0\n",
       "Month           0\n",
       "Day             0\n",
       "Year            0\n",
       "CaptureTime     0\n",
       "ReleaseTime     0\n",
       "BandNumber      0\n",
       "Species         0\n",
       "Age             0\n",
       "Sex             0\n",
       "Wing            0\n",
       "Weight          0\n",
       "Culmen          0\n",
       "Hallux          0\n",
       "Tail            0\n",
       "StandardTail    0\n",
       "Tarsus          0\n",
       "WingPitFat      0\n",
       "KeelFat         0\n",
       "Crop            0\n",
       "dtype: int64"
      ]
     },
     "execution_count": 35,
     "metadata": {},
     "output_type": "execute_result"
    }
   ],
   "source": [
    "test.isnull().sum()"
   ]
  },
  {
   "cell_type": "code",
   "execution_count": 84,
   "metadata": {},
   "outputs": [
    {
     "ename": "SyntaxError",
     "evalue": "invalid syntax (<ipython-input-84-2155181ef2fd>, line 5)",
     "output_type": "error",
     "traceback": [
      "\u001b[1;36m  File \u001b[1;32m\"<ipython-input-84-2155181ef2fd>\"\u001b[1;36m, line \u001b[1;32m5\u001b[0m\n\u001b[1;33m    return x['Weight'] = x['Weight'].mean()\u001b[0m\n\u001b[1;37m                       ^\u001b[0m\n\u001b[1;31mSyntaxError\u001b[0m\u001b[1;31m:\u001b[0m invalid syntax\n"
     ]
    }
   ],
   "source": [
    "def mean_category(x):\n",
    "    print (x['Species'])\n",
    "    print (x['Weight'])\n",
    "    if x['Species']=='RT' and x['Weight'].isnan:\n",
    "        return x['Weight'] = x['Weight'].mean()\n",
    "    else:\n",
    "        return 'test'\n",
    "\n",
    "test = test.apply(mean_category)"
   ]
  },
  {
   "cell_type": "code",
   "execution_count": 79,
   "metadata": {},
   "outputs": [],
   "source": [
    "test = hawk"
   ]
  },
  {
   "cell_type": "code",
   "execution_count": 80,
   "metadata": {},
   "outputs": [
    {
     "data": {
      "text/plain": [
       "0       920.0\n",
       "1       930.0\n",
       "2       990.0\n",
       "3       470.0\n",
       "4       170.0\n",
       "        ...  \n",
       "903    1525.0\n",
       "904     175.0\n",
       "905     790.0\n",
       "906     860.0\n",
       "907    1290.0\n",
       "Name: Weight, Length: 908, dtype: float64"
      ]
     },
     "execution_count": 80,
     "metadata": {},
     "output_type": "execute_result"
    }
   ],
   "source": [
    "test['Weight']"
   ]
  },
  {
   "cell_type": "code",
   "execution_count": null,
   "metadata": {},
   "outputs": [],
   "source": []
  }
 ],
 "metadata": {
  "kernelspec": {
   "display_name": "Python 3",
   "language": "python",
   "name": "python3"
  },
  "language_info": {
   "codemirror_mode": {
    "name": "ipython",
    "version": 3
   },
   "file_extension": ".py",
   "mimetype": "text/x-python",
   "name": "python",
   "nbconvert_exporter": "python",
   "pygments_lexer": "ipython3",
   "version": "3.7.1"
  }
 },
 "nbformat": 4,
 "nbformat_minor": 2
}
